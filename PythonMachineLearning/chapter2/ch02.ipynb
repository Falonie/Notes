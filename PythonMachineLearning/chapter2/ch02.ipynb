{
 "cells": [
  {
   "cell_type": "code",
   "execution_count": 1,
   "metadata": {
    "collapsed": true
   },
   "outputs": [
    {
     "name": "stdout",
     "output_type": "stream",
     "text": [
      "       0    1    2    3               4\n0    5.1  3.5  1.4  0.2     Iris-setosa\n1    4.9  3.0  1.4  0.2     Iris-setosa\n2    4.7  3.2  1.3  0.2     Iris-setosa\n3    4.6  3.1  1.5  0.2     Iris-setosa\n4    5.0  3.6  1.4  0.2     Iris-setosa\n5    5.4  3.9  1.7  0.4     Iris-setosa\n6    4.6  3.4  1.4  0.3     Iris-setosa\n7    5.0  3.4  1.5  0.2     Iris-setosa\n8    4.4  2.9  1.4  0.2     Iris-setosa\n9    4.9  3.1  1.5  0.1     Iris-setosa\n10   5.4  3.7  1.5  0.2     Iris-setosa\n11   4.8  3.4  1.6  0.2     Iris-setosa\n12   4.8  3.0  1.4  0.1     Iris-setosa\n13   4.3  3.0  1.1  0.1     Iris-setosa\n14   5.8  4.0  1.2  0.2     Iris-setosa\n15   5.7  4.4  1.5  0.4     Iris-setosa\n16   5.4  3.9  1.3  0.4     Iris-setosa\n17   5.1  3.5  1.4  0.3     Iris-setosa\n18   5.7  3.8  1.7  0.3     Iris-setosa\n19   5.1  3.8  1.5  0.3     Iris-setosa\n20   5.4  3.4  1.7  0.2     Iris-setosa\n21   5.1  3.7  1.5  0.4     Iris-setosa\n22   4.6  3.6  1.0  0.2     Iris-setosa\n23   5.1  3.3  1.7  0.5     Iris-setosa\n24   4.8  3.4  1.9  0.2     Iris-setosa\n25   5.0  3.0  1.6  0.2     Iris-setosa\n26   5.0  3.4  1.6  0.4     Iris-setosa\n27   5.2  3.5  1.5  0.2     Iris-setosa\n28   5.2  3.4  1.4  0.2     Iris-setosa\n29   4.7  3.2  1.6  0.2     Iris-setosa\n..   ...  ...  ...  ...             ...\n120  6.9  3.2  5.7  2.3  Iris-virginica\n121  5.6  2.8  4.9  2.0  Iris-virginica\n122  7.7  2.8  6.7  2.0  Iris-virginica\n123  6.3  2.7  4.9  1.8  Iris-virginica\n124  6.7  3.3  5.7  2.1  Iris-virginica\n125  7.2  3.2  6.0  1.8  Iris-virginica\n126  6.2  2.8  4.8  1.8  Iris-virginica\n127  6.1  3.0  4.9  1.8  Iris-virginica\n128  6.4  2.8  5.6  2.1  Iris-virginica\n129  7.2  3.0  5.8  1.6  Iris-virginica\n130  7.4  2.8  6.1  1.9  Iris-virginica\n131  7.9  3.8  6.4  2.0  Iris-virginica\n132  6.4  2.8  5.6  2.2  Iris-virginica\n133  6.3  2.8  5.1  1.5  Iris-virginica\n134  6.1  2.6  5.6  1.4  Iris-virginica\n135  7.7  3.0  6.1  2.3  Iris-virginica\n136  6.3  3.4  5.6  2.4  Iris-virginica\n137  6.4  3.1  5.5  1.8  Iris-virginica\n138  6.0  3.0  4.8  1.8  Iris-virginica\n139  6.9  3.1  5.4  2.1  Iris-virginica\n140  6.7  3.1  5.6  2.4  Iris-virginica\n141  6.9  3.1  5.1  2.3  Iris-virginica\n142  5.8  2.7  5.1  1.9  Iris-virginica\n143  6.8  3.2  5.9  2.3  Iris-virginica\n144  6.7  3.3  5.7  2.5  Iris-virginica\n145  6.7  3.0  5.2  2.3  Iris-virginica\n146  6.3  2.5  5.0  1.9  Iris-virginica\n147  6.5  3.0  5.2  2.0  Iris-virginica\n148  6.2  3.4  5.4  2.3  Iris-virginica\n149  5.9  3.0  5.1  1.8  Iris-virginica\n\n[150 rows x 5 columns]\n[-1 -1 -1 -1 -1 -1 -1 -1 -1 -1 -1 -1 -1 -1 -1 -1 -1 -1 -1 -1 -1 -1 -1 -1 -1\n -1 -1 -1 -1 -1 -1 -1 -1 -1 -1 -1 -1 -1 -1 -1 -1 -1 -1 -1 -1 -1 -1 -1 -1 -1\n  1  1  1  1  1  1  1  1  1  1  1  1  1  1  1  1  1  1  1  1  1  1  1  1  1\n  1  1  1  1  1  1  1  1  1  1  1  1  1  1  1  1  1  1  1  1  1  1  1  1  1]\n"
     ]
    },
    {
     "data": {
      "image/png": "[encoded data removed]",
      "text/plain": [
       "<matplotlib.figure.Figure at 0x7f60e14106a0>"
      ]
     },
     "metadata": {},
     "output_type": "display_data"
    }
   ],
   "source": [
    "import numpy as np\n",
    "import pandas as pd\n",
    "import matplotlib.pyplot as plt\n",
    "\n",
    "df=pd.read_csv('https://archive.ics.uci.edu/ml/machine-learning-databases/iris/iris.data',header=None)\n",
    "df.tail()\n",
    "print(df)\n",
    "y=df.iloc[0:100,4].values\n",
    "y=np.where(y=='Iris-setosa',-1,1)\n",
    "print(y)\n",
    "X=df.iloc[0:100,[0,2]].values\n",
    "# print(X)\n",
    "# print(X[:50,1])\n",
    "# print(df.iloc[0:100,2].values)\n",
    "plt.scatter(X[:50,0],X[:50,1],color='red',marker='o',label='setosa')\n",
    "plt.scatter(X[50:100,0],X[50:100,1],color='blue',marker='x',label='versicolor')\n",
    "plt.show()\n"
   ]
  },
  {
   "cell_type": "code",
   "execution_count": null,
   "metadata": {},
   "outputs": [],
   "source": []
  }
 ],
 "metadata": {
  "kernelspec": {
   "display_name": "Python 2",
   "language": "python",
   "name": "python2"
  },
  "language_info": {
   "codemirror_mode": {
    "name": "ipython",
    "version": 2
   },
   "file_extension": ".py",
   "mimetype": "text/x-python",
   "name": "python",
   "nbconvert_exporter": "python",
   "pygments_lexer": "ipython2",
   "version": "2.7.6"
  }
 },
 "nbformat": 4,
 "nbformat_minor": 0
}
